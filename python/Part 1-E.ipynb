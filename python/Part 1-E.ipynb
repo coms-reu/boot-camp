{
 "cells": [
  {
   "attachments": {
    "85b44d79-7da6-4f3a-90a8-b3da211a551e.png": {
     "image/png": "[encoded data removed]"
    }
   },
   "cell_type": "markdown",
   "metadata": {},
   "source": [
    "# MTSU Computational Science\n",
    "## Research Experience for Undergraduates\n",
    "\n",
    "![image.png](attachment:85b44d79-7da6-4f3a-90a8-b3da211a551e.png)\n",
    "\n",
    "### Python Bootcamp - Module 1-E\n",
    "#### Git Tutorial\n",
    "\n",
    "Let's begin by establishing the fact that we can't possibly learn everything about git here, but we will cover the most important aspects involved in working with a team using remote git repositories to share and maintain code.\n",
    "\n",
    "I will start from the assumption that you have a working SSH keypair for authenticating with Github. If not, then please make sure you find relevant instructions for doing so (installing your public SSH key using your account) before proceeding.\n",
    "\n",
    "OK, so first, let's think a little about what a repository **is** and why it is useful. First, you need a place to maintain code where anyone can download and use it: this is what a git repository is to most people. Second, you need to be able to modify or make updates to your code and then upload them to the repository so that users can make use of your updates. Finally, you need to be able to understand how git helps you ensure that the integrity of the code is maintained even though **multiple** people are working on the code in the repository at the same time.\n",
    "\n",
    "Let's start by pulling a repository down, making some changes and pushing them back into the repo. We are assuming a simple one-person development model at this point, and will move to multiple edits later on.\n",
    "\n",
    "I will work from a local directory called `git-tutorial` within my home directory. From there I will start investigating a git repository and make some changes to it.\n",
    "\n",
    "OK, let's pull down the `git-sandbox` repo from the website, and start looking around...\n",
    "\n",
    "## Core Concept: Cloning"
   ]
  },
  {
   "cell_type": "code",
   "execution_count": 1,
   "metadata": {},
   "outputs": [
    {
     "name": "stdout",
     "output_type": "stream",
     "text": [
      "/nfshome/jphillips/git-tutorial\n"
     ]
    }
   ],
   "source": [
    "# Check where I currently am...\n",
    "pwd"
   ]
  },
  {
   "cell_type": "code",
   "execution_count": 2,
   "metadata": {},
   "outputs": [
    {
     "name": "stdout",
     "output_type": "stream",
     "text": [
      "Cloning into 'git-sandbox'...\n",
      "remote: Enumerating objects: 4, done.        \n",
      "remote: Counting objects: 100% (4/4), done.        \n",
      "remote: Compressing objects: 100% (3/3), done.        \n",
      "remote: Total 4 (delta 0), reused 0 (delta 0), pack-reused 0        \n",
      "Unpacking objects: 100% (4/4), done.\n"
     ]
    }
   ],
   "source": [
    "# Grab the repo from the web - note that I copy/pasted -after- the git clone command\n",
    "git clone git@github.com:CSCI4850/git-sandbox.git"
   ]
  },
  {
   "cell_type": "code",
   "execution_count": 3,
   "metadata": {},
   "outputs": [
    {
     "name": "stdout",
     "output_type": "stream",
     "text": [
      "total 8\n",
      "drwxr-xr-x 3 jphillips faculty 4096 Feb 25 11:47 git-sandbox\n",
      "-rw-r--r-- 1 jphillips faculty 2457 Feb 25 11:47 Starting Up.ipynb\n"
     ]
    }
   ],
   "source": [
    "# Take a look at what we have...\n",
    "ls -l"
   ]
  },
  {
   "cell_type": "markdown",
   "metadata": {},
   "source": [
    "Note that I now have a new directory called `git-sandbox` in my working directory. I also have the notebook file that I am currently working on as well. However, let's go into the repo (which is just a standard directory) and look around.\n",
    "\n",
    "## What's in a Repo?"
   ]
  },
  {
   "cell_type": "code",
   "execution_count": 4,
   "metadata": {},
   "outputs": [
    {
     "name": "stdout",
     "output_type": "stream",
     "text": [
      "total 20\n",
      "drwxr-xr-x 3 jphillips faculty 4096 Feb 25 11:47 .\n",
      "drwxr-xr-x 4 jphillips faculty 4096 Feb 25 11:49 ..\n",
      "drwxr-xr-x 8 jphillips faculty 4096 Feb 25 11:47 .git\n",
      "-rw-r--r-- 1 jphillips faculty 1083 Feb 25 11:47 LICENSE\n",
      "-rw-r--r-- 1 jphillips faculty   46 Feb 25 11:47 README.md\n"
     ]
    }
   ],
   "source": [
    "cd git-sandbox\n",
    "ls -la"
   ]
  },
  {
   "cell_type": "code",
   "execution_count": 5,
   "metadata": {},
   "outputs": [
    {
     "name": "stdout",
     "output_type": "stream",
     "text": [
      "total 52\n",
      "drwxr-xr-x 8 jphillips faculty 4096 Feb 25 11:47 .\n",
      "drwxr-xr-x 3 jphillips faculty 4096 Feb 25 11:47 ..\n",
      "drwxr-xr-x 2 jphillips faculty 4096 Feb 25 11:47 branches\n",
      "-rw-r--r-- 1 jphillips faculty  268 Feb 25 11:47 config\n",
      "-rw-r--r-- 1 jphillips faculty   73 Feb 25 11:47 description\n",
      "-rw-r--r-- 1 jphillips faculty   23 Feb 25 11:47 HEAD\n",
      "drwxr-xr-x 2 jphillips faculty 4096 Feb 25 11:47 hooks\n",
      "-rw-r--r-- 1 jphillips faculty  209 Feb 25 11:47 index\n",
      "drwxr-xr-x 2 jphillips faculty 4096 Feb 25 11:47 info\n",
      "drwxr-xr-x 3 jphillips faculty 4096 Feb 25 11:47 logs\n",
      "drwxr-xr-x 8 jphillips faculty 4096 Feb 25 11:47 objects\n",
      "-rw-r--r-- 1 jphillips faculty  107 Feb 25 11:47 packed-refs\n",
      "drwxr-xr-x 5 jphillips faculty 4096 Feb 25 11:47 refs\n"
     ]
    }
   ],
   "source": [
    "ls -la .git"
   ]
  },
  {
   "cell_type": "code",
   "execution_count": 5,
   "metadata": {},
   "outputs": [
    {
     "name": "stdout",
     "output_type": "stream",
     "text": [
      "[core]\n",
      "\trepositoryformatversion = 0\n",
      "\tfilemode = true\n",
      "\tbare = false\n",
      "\tlogallrefupdates = true\n",
      "[remote \"origin\"]\n",
      "\turl = git@github.com:CSCI4850/git-sandbox.git\n",
      "\tfetch = +refs/heads/*:refs/remotes/origin/*\n",
      "[branch \"master\"]\n",
      "\tremote = origin\n",
      "\tmerge = refs/heads/master\n"
     ]
    }
   ],
   "source": [
    "cat .git/config"
   ]
  },
  {
   "cell_type": "markdown",
   "metadata": {},
   "source": [
    "You can see that the repo contains two files: LICENSE and README.md which are the only \"code\" in the repository so far. However, it also contains a hidden directory, `.git`, which contains special files that help git understand that this directory contains a git repository. You should normally leave these files alone. In particular, if you remove the `.git` directory, then git will no longer be able to understand that this is a git repository, and you will no longer be able to use it as such.\n",
    "\n",
    "One important thing to keep in mind about these repositories is that they are **complete** copies of the code **and** all code history. This means that each clone of the repo contains all changes made to the repository going all the way back to its initial creation. This would lead to a lot of bloat in size, but git usually just stores the *differences* between files (lines added and lines deleted) from your code (in a compressed form) to keep the repo a reasonable size.\n",
    "\n",
    "Still, this had implications for your file management: **large data files** should normally **not** be stored in the repo. It would be better to keep those in a public web location, and have them be downloaded using the tools and scripts in the repo when needed. That being said, smaller files for project testing and debugging may be kept in the repo without adding too much bloat to the repository.\n",
    "\n",
    "Because we now have a **complete** clone of the repo, it can be used completely *offline*. Any changes made can stored and managed using git's management tools, and can later be added to the remote repository when we go back *online*.\n",
    "\n",
    "## Core Concept: Repo Status"
   ]
  },
  {
   "cell_type": "code",
   "execution_count": 7,
   "metadata": {},
   "outputs": [
    {
     "name": "stdout",
     "output_type": "stream",
     "text": [
      "On branch master\n",
      "Your branch is up-to-date with 'origin/master'.\n",
      "nothing to commit, working tree clean\n"
     ]
    }
   ],
   "source": [
    "# Take a look at the status of the repository\n",
    "git status"
   ]
  },
  {
   "cell_type": "code",
   "execution_count": 8,
   "metadata": {},
   "outputs": [
    {
     "name": "stdout",
     "output_type": "stream",
     "text": [
      "# git-sandbox\n",
      "Used to create the git-tutorial\n"
     ]
    }
   ],
   "source": [
    "# Take a look at the README.md file...\n",
    "cat README.md"
   ]
  },
  {
   "cell_type": "code",
   "execution_count": 13,
   "metadata": {},
   "outputs": [],
   "source": [
    "# Make a change to the readme and see what this does\n",
    "# -Append- to the README.md file...\n",
    "echo \"Something new added to the README file\" >> README.md"
   ]
  },
  {
   "cell_type": "code",
   "execution_count": 14,
   "metadata": {},
   "outputs": [
    {
     "name": "stdout",
     "output_type": "stream",
     "text": [
      "# git-sandbox\n",
      "Used to create the git-tutorial\n",
      "Something new added to the README file\n"
     ]
    }
   ],
   "source": [
    "# Check the updates\n",
    "cat README.md"
   ]
  },
  {
   "cell_type": "code",
   "execution_count": 16,
   "metadata": {},
   "outputs": [
    {
     "name": "stdout",
     "output_type": "stream",
     "text": [
      "On branch master\n",
      "Your branch is up-to-date with 'origin/master'.\n",
      "Changes not staged for commit:\n",
      "  (use \"git add <file>...\" to update what will be committed)\n",
      "  (use \"git checkout -- <file>...\" to discard changes in working directory)\n",
      "\n",
      "\tmodified:   README.md\n",
      "\n",
      "no changes added to commit (use \"git add\" and/or \"git commit -a\")\n"
     ]
    }
   ],
   "source": [
    "# What has changed? Check the status!\n",
    "git status"
   ]
  },
  {
   "cell_type": "markdown",
   "metadata": {},
   "source": [
    "Notice how git status can see that the file `README.md` has been modified?\n",
    "\n",
    "It can even tell you what those current changes are in `diff` format..."
   ]
  },
  {
   "cell_type": "code",
   "execution_count": 17,
   "metadata": {},
   "outputs": [
    {
     "name": "stdout",
     "output_type": "stream",
     "text": [
      "diff --git a/README.md b/README.md\n",
      "index d756b0b..b971340 100644\n",
      "--- a/README.md\n",
      "+++ b/README.md\n",
      "@@ -1,2 +1,3 @@\n",
      " # git-sandbox\n",
      " Used to create the git-tutorial\n",
      "+Something new added to the README file\n"
     ]
    }
   ],
   "source": [
    "# How is it different from what was there before?\n",
    "git diff"
   ]
  },
  {
   "cell_type": "markdown",
   "metadata": {},
   "source": [
    "The additions and deletions will be shown for lines (+ and -, respectively). However, to make these changes \"permanent\" we will need to package them up into a `commit`. We can also add additional changes into a commit; in fact there is no real limitation in how many changes we want to compile into a single commit. Let's make one more addition by creating a new file for the repository called `something.txt`."
   ]
  },
  {
   "cell_type": "code",
   "execution_count": 18,
   "metadata": {},
   "outputs": [],
   "source": [
    "echo \"Here we put some text into the text file.\" >> something.txt"
   ]
  },
  {
   "cell_type": "code",
   "execution_count": 19,
   "metadata": {},
   "outputs": [
    {
     "name": "stdout",
     "output_type": "stream",
     "text": [
      "On branch master\n",
      "Your branch is up-to-date with 'origin/master'.\n",
      "Changes not staged for commit:\n",
      "  (use \"git add <file>...\" to update what will be committed)\n",
      "  (use \"git checkout -- <file>...\" to discard changes in working directory)\n",
      "\n",
      "\tmodified:   README.md\n",
      "\n",
      "Untracked files:\n",
      "  (use \"git add <file>...\" to include in what will be committed)\n",
      "\n",
      "\tsomething.txt\n",
      "\n",
      "no changes added to commit (use \"git add\" and/or \"git commit -a\")\n"
     ]
    }
   ],
   "source": [
    "git status"
   ]
  },
  {
   "cell_type": "markdown",
   "metadata": {},
   "source": [
    "You can see that the status command tells us about modifications to files that were already in the repo (changes not staged for commit) and new files that it is not yet aware that you want to include (untracked files). Given that this file is not tracked, it will not show up in our `git diff` output, but we can `add` it to the next commit and it will begin to do so.\n",
    "\n",
    "Before we add the new file, let's keep in mind that the edited file (README.md) will *also* need to be added as well. Why? Well, git needs to know explicitly which files you would like to include in a commit. Since the commit has a kind of permanence (a little tedious to reverse), git wants to make sure you are ready to include any changes before it will do so.\n",
    "\n",
    "Let's see what creating a commit will look like...\n",
    "\n",
    "## Core Concept: Commit"
   ]
  },
  {
   "cell_type": "code",
   "execution_count": 20,
   "metadata": {},
   "outputs": [
    {
     "name": "stdout",
     "output_type": "stream",
     "text": [
      "On branch master\n",
      "Your branch is up-to-date with 'origin/master'.\n",
      "Changes not staged for commit:\n",
      "\tmodified:   README.md\n",
      "\n",
      "Untracked files:\n",
      "\tsomething.txt\n",
      "\n",
      "no changes added to commit\n"
     ]
    },
    {
     "ename": "",
     "evalue": "1",
     "execution_count": 20,
     "output_type": "error",
     "traceback": []
    }
   ],
   "source": [
    "# Let's just try to run a commit and see what happens..\n",
    "git commit"
   ]
  },
  {
   "cell_type": "markdown",
   "metadata": {},
   "source": [
    "There was a non-zero exit status to the command (hence the red `: 1`) at the end. More importantly, the command clearly reports: no changes added to commit. Therefore, it can't complete the request. Therefore, we need to first add relevant changes or new files before a commit can be created. Also, using `git status` can keep us up-to-date on the progress of adding these updates to the commit. **Let's try just adding the new file first...**"
   ]
  },
  {
   "cell_type": "code",
   "execution_count": 21,
   "metadata": {},
   "outputs": [],
   "source": [
    "git add something.txt"
   ]
  },
  {
   "cell_type": "code",
   "execution_count": 22,
   "metadata": {},
   "outputs": [
    {
     "name": "stdout",
     "output_type": "stream",
     "text": [
      "On branch master\n",
      "Your branch is up-to-date with 'origin/master'.\n",
      "Changes to be committed:\n",
      "  (use \"git reset HEAD <file>...\" to unstage)\n",
      "\n",
      "\tnew file:   something.txt\n",
      "\n",
      "Changes not staged for commit:\n",
      "  (use \"git add <file>...\" to update what will be committed)\n",
      "  (use \"git checkout -- <file>...\" to discard changes in working directory)\n",
      "\n",
      "\tmodified:   README.md\n",
      "\n"
     ]
    }
   ],
   "source": [
    "git status"
   ]
  },
  {
   "cell_type": "markdown",
   "metadata": {},
   "source": [
    "Notice that git had now put the new file into a section called \"changes to be committed\". This section shows what updates will be performed in the next commit. However, it also provides commands for reversing this process if, for example, you accidentally added the wrong file. Let's reverse that action on the file using the suggested command above:"
   ]
  },
  {
   "cell_type": "code",
   "execution_count": 23,
   "metadata": {},
   "outputs": [
    {
     "name": "stdout",
     "output_type": "stream",
     "text": [
      "Unstaged changes after reset:\n",
      "M\tREADME.md\n"
     ]
    }
   ],
   "source": [
    "git reset HEAD something.txt"
   ]
  },
  {
   "cell_type": "code",
   "execution_count": 24,
   "metadata": {},
   "outputs": [
    {
     "name": "stdout",
     "output_type": "stream",
     "text": [
      "On branch master\n",
      "Your branch is up-to-date with 'origin/master'.\n",
      "Changes not staged for commit:\n",
      "  (use \"git add <file>...\" to update what will be committed)\n",
      "  (use \"git checkout -- <file>...\" to discard changes in working directory)\n",
      "\n",
      "\tmodified:   README.md\n",
      "\n",
      "Untracked files:\n",
      "  (use \"git add <file>...\" to include in what will be committed)\n",
      "\n",
      "\tsomething.txt\n",
      "\n",
      "no changes added to commit (use \"git add\" and/or \"git commit -a\")\n"
     ]
    }
   ],
   "source": [
    "git status"
   ]
  },
  {
   "cell_type": "markdown",
   "metadata": {},
   "source": [
    "You can see how the file has now reversed its status **back** to being untracked. Let's see what happens when we add the edited README.md file instead..."
   ]
  },
  {
   "cell_type": "code",
   "execution_count": 25,
   "metadata": {},
   "outputs": [],
   "source": [
    "git add README.md"
   ]
  },
  {
   "cell_type": "code",
   "execution_count": 26,
   "metadata": {},
   "outputs": [
    {
     "name": "stdout",
     "output_type": "stream",
     "text": [
      "On branch master\n",
      "Your branch is up-to-date with 'origin/master'.\n",
      "Changes to be committed:\n",
      "  (use \"git reset HEAD <file>...\" to unstage)\n",
      "\n",
      "\tmodified:   README.md\n",
      "\n",
      "Untracked files:\n",
      "  (use \"git add <file>...\" to include in what will be committed)\n",
      "\n",
      "\tsomething.txt\n",
      "\n"
     ]
    }
   ],
   "source": [
    "git status"
   ]
  },
  {
   "cell_type": "markdown",
   "metadata": {},
   "source": [
    "The modified file has now been added to the list of \"changes to be committed\" and we could reverse this with the provided command just like we did above. However, let's go ahead and add the new text file `something.txt` back to the staging area..."
   ]
  },
  {
   "cell_type": "code",
   "execution_count": 27,
   "metadata": {},
   "outputs": [],
   "source": [
    "git add something.txt"
   ]
  },
  {
   "cell_type": "code",
   "execution_count": 28,
   "metadata": {},
   "outputs": [
    {
     "name": "stdout",
     "output_type": "stream",
     "text": [
      "On branch master\n",
      "Your branch is up-to-date with 'origin/master'.\n",
      "Changes to be committed:\n",
      "  (use \"git reset HEAD <file>...\" to unstage)\n",
      "\n",
      "\tmodified:   README.md\n",
      "\tnew file:   something.txt\n",
      "\n"
     ]
    }
   ],
   "source": [
    "git status"
   ]
  },
  {
   "cell_type": "markdown",
   "metadata": {},
   "source": [
    "Now we can see what all of our changes are ready to be put into a commit. The **commit is the basic transactional unit** when working with a git repo, and you should normally make commits often even for relatively small changes to the code. The reason for this is that even though a commit has a more \"permanent\" feel to it (as we will see in a moment), they **are** reversable as well and can be shared with others who would like to clone the repo in the future. Let's take a look at the log that git creates before performing this commit..."
   ]
  },
  {
   "cell_type": "code",
   "execution_count": 29,
   "metadata": {},
   "outputs": [
    {
     "name": "stdout",
     "output_type": "stream",
     "text": [
      "commit 92d29e1be02ad5fa289201815babfb7a31699882\n",
      "Author: Joshua L. Phillips <Joshua.Phillips@mtsu.edu>\n",
      "Date:   Mon Feb 25 10:20:29 2019 -0600\n",
      "\n",
      "    Initial commit\n"
     ]
    }
   ],
   "source": [
    "# Print the commit history for this branch of the repo...\n",
    "git log"
   ]
  },
  {
   "cell_type": "markdown",
   "metadata": {},
   "source": [
    "So far there is only one commit in the repo history, and this one I created using the Github web interface when I first created the repository. However, I would now like to add my new changes (all staged and ready to go) into a new commit to the repository. For this, we will also create a small status message that describes the general purpose behind the update."
   ]
  },
  {
   "cell_type": "code",
   "execution_count": 30,
   "metadata": {},
   "outputs": [
    {
     "name": "stdout",
     "output_type": "stream",
     "text": [
      "[master 1bfffdf] A little commit to demonstrate how to make a commit to a repo\n",
      " 2 files changed, 2 insertions(+)\n",
      " create mode 100644 something.txt\n"
     ]
    }
   ],
   "source": [
    "git commit -m \"A little commit to demonstrate how to make a commit to a repo\""
   ]
  },
  {
   "cell_type": "code",
   "execution_count": 31,
   "metadata": {},
   "outputs": [
    {
     "name": "stdout",
     "output_type": "stream",
     "text": [
      "commit 1bfffdfb223ebb66d4a82857b496105b1da98cb5\n",
      "Author: Dr Joshua Lee Phillips <joshua.lee.phillips@gmail.com>\n",
      "Date:   Mon Feb 25 12:56:27 2019 -0600\n",
      "\n",
      "    A little commit to demonstrate how to make a commit to a repo\n",
      "\n",
      "commit 92d29e1be02ad5fa289201815babfb7a31699882\n",
      "Author: Joshua L. Phillips <Joshua.Phillips@mtsu.edu>\n",
      "Date:   Mon Feb 25 10:20:29 2019 -0600\n",
      "\n",
      "    Initial commit\n"
     ]
    }
   ],
   "source": [
    "git log"
   ]
  },
  {
   "cell_type": "markdown",
   "metadata": {},
   "source": [
    "A successful commit to the repository! It's also now recorded in the log for the repo! Notice what happens how when I check the status of the repo..."
   ]
  },
  {
   "cell_type": "code",
   "execution_count": 32,
   "metadata": {},
   "outputs": [
    {
     "name": "stdout",
     "output_type": "stream",
     "text": [
      "On branch master\n",
      "Your branch is ahead of 'origin/master' by 1 commit.\n",
      "  (use \"git push\" to publish your local commits)\n",
      "nothing to commit, working tree clean\n"
     ]
    }
   ],
   "source": [
    "git status"
   ]
  },
  {
   "cell_type": "markdown",
   "metadata": {},
   "source": [
    "There is nothing to commit since they current \"code\" is all consistent with the latest commit to the repository. However, this doesn't make the changes immediately visible to other users of the repository. You can see this by how git tells us \"your branch is ahead of origin/master by 1 commit\". This means we have some *offline* changes that we have made, and we would need to update the remote branch to make this so. Our own local branch on which we are working is just called `master` and the remote branch that we would like to update is therefore called `origin/master` where our origin is the original repository that we cloned (out there on github).\n",
    "\n",
    "Before we move this commit into the remote repository, let's take a look at how we can use the log information to compare commits..."
   ]
  },
  {
   "cell_type": "code",
   "execution_count": 33,
   "metadata": {},
   "outputs": [
    {
     "name": "stdout",
     "output_type": "stream",
     "text": [
      "diff --git a/README.md b/README.md\n",
      "index d756b0b..b971340 100644\n",
      "--- a/README.md\n",
      "+++ b/README.md\n",
      "@@ -1,2 +1,3 @@\n",
      " # git-sandbox\n",
      " Used to create the git-tutorial\n",
      "+Something new added to the README file\n",
      "diff --git a/something.txt b/something.txt\n",
      "new file mode 100644\n",
      "index 0000000..2c814fa\n",
      "--- /dev/null\n",
      "+++ b/something.txt\n",
      "@@ -0,0 +1 @@\n",
      "+Here we put some text into the text file.\n"
     ]
    }
   ],
   "source": [
    "git diff 92d29e1be02ad5fa289201815babfb7a31699882"
   ]
  },
  {
   "cell_type": "markdown",
   "metadata": {},
   "source": [
    "The diff command can be used to compare the current commit to past commits by providing the hash sum (as shown above). You can also provide two different hash sums to compare *any* two different commits directly to one another.\n",
    "\n",
    "However, we will use this opportunity to show how to undo a previous commit in case we have changed our mind about these changes. This will work with our local clone of the repo, but it's a little more difficult to remove a commit once it has been uploaded/pushed onto github.\n",
    "\n",
    "## Core Concept: Reset\n",
    "\n",
    "Before we jump right into removing the commit, we will first move back to a previous version of the code (the last commit) and then store those changes so we can apply them later (redo the commit **after** we have removed it from the repo). Let's start by undoing the last commit."
   ]
  },
  {
   "cell_type": "code",
   "execution_count": 34,
   "metadata": {},
   "outputs": [],
   "source": [
    "git reset --soft HEAD~1"
   ]
  },
  {
   "cell_type": "code",
   "execution_count": 35,
   "metadata": {},
   "outputs": [
    {
     "name": "stdout",
     "output_type": "stream",
     "text": [
      "On branch master\n",
      "Your branch is up-to-date with 'origin/master'.\n",
      "Changes to be committed:\n",
      "  (use \"git reset HEAD <file>...\" to unstage)\n",
      "\n",
      "\tmodified:   README.md\n",
      "\tnew file:   something.txt\n",
      "\n"
     ]
    }
   ],
   "source": [
    "git status"
   ]
  },
  {
   "cell_type": "markdown",
   "metadata": {},
   "source": [
    "Here we have backed up one commit (~1). Instead, we could have specified a specific commit to move to using it's hash sum (like we provided to git diff earlier). However, one other detail is important: the `--soft` option. This option leaves the files with their modifications, but staged to go into a subsequent commit.\n",
    "\n",
    "You should notice that we always use the keyword `HEAD` to refer to the current commit on which we are working. After resetting to one previous commit, this has become the new `HEAD`.\n",
    "\n",
    "For now, I would like to preserve these changes **temporarily** and then apply them as a new commit later on. For this, we can use `stash`."
   ]
  },
  {
   "cell_type": "code",
   "execution_count": 45,
   "metadata": {},
   "outputs": [
    {
     "name": "stdout",
     "output_type": "stream",
     "text": [
      "Saved working directory and index state WIP on master: 92d29e1 Initial commit\n",
      "HEAD is now at 92d29e1 Initial commit\n"
     ]
    }
   ],
   "source": [
    "git stash"
   ]
  },
  {
   "cell_type": "code",
   "execution_count": 46,
   "metadata": {},
   "outputs": [
    {
     "name": "stdout",
     "output_type": "stream",
     "text": [
      "On branch master\n",
      "Your branch is up-to-date with 'origin/master'.\n",
      "nothing to commit, working tree clean\n"
     ]
    }
   ],
   "source": [
    "git status"
   ]
  },
  {
   "cell_type": "code",
   "execution_count": 49,
   "metadata": {},
   "outputs": [
    {
     "name": "stdout",
     "output_type": "stream",
     "text": [
      "total 8\n",
      "-rw-r--r-- 1 jphillips faculty 1083 Feb 25 11:47 LICENSE\n",
      "-rw-r--r-- 1 jphillips faculty   46 Feb 25 19:17 README.md\n"
     ]
    }
   ],
   "source": [
    "ls -l"
   ]
  },
  {
   "cell_type": "markdown",
   "metadata": {},
   "source": [
    "We have completely cleaned the working directory from any noticable changes from the initial commit. However, we can accomplish this same process in a more direct way by using a hard reset (instead of a soft one like the above).\n",
    "\n",
    "Let's make the commit once more before we try this..."
   ]
  },
  {
   "cell_type": "code",
   "execution_count": 50,
   "metadata": {},
   "outputs": [
    {
     "name": "stdout",
     "output_type": "stream",
     "text": [
      "On branch master\n",
      "Your branch is up-to-date with 'origin/master'.\n",
      "Changes to be committed:\n",
      "  (use \"git reset HEAD <file>...\" to unstage)\n",
      "\n",
      "\tnew file:   something.txt\n",
      "\n",
      "Changes not staged for commit:\n",
      "  (use \"git add <file>...\" to update what will be committed)\n",
      "  (use \"git checkout -- <file>...\" to discard changes in working directory)\n",
      "\n",
      "\tmodified:   README.md\n",
      "\n"
     ]
    }
   ],
   "source": [
    "git stash apply"
   ]
  },
  {
   "cell_type": "code",
   "execution_count": 51,
   "metadata": {},
   "outputs": [
    {
     "name": "stdout",
     "output_type": "stream",
     "text": [
      "On branch master\n",
      "Your branch is up-to-date with 'origin/master'.\n",
      "Changes to be committed:\n",
      "  (use \"git reset HEAD <file>...\" to unstage)\n",
      "\n",
      "\tmodified:   README.md\n",
      "\tnew file:   something.txt\n",
      "\n"
     ]
    }
   ],
   "source": [
    "git add README.md\n",
    "git status"
   ]
  },
  {
   "cell_type": "markdown",
   "metadata": {},
   "source": [
    "You can see that `stash apply` command will take the last stashed changes (compared to HEAD) and apply them to the repository.\n",
    "\n",
    "Now we can make the commit again, and then we will remove it using a *hard* reset."
   ]
  },
  {
   "cell_type": "code",
   "execution_count": 59,
   "metadata": {},
   "outputs": [
    {
     "name": "stdout",
     "output_type": "stream",
     "text": [
      "[master fd319db] Changes applied a second time\n",
      " 2 files changed, 2 insertions(+)\n",
      " create mode 100644 something.txt\n"
     ]
    }
   ],
   "source": [
    "git commit -m \"Changes applied a second time\""
   ]
  },
  {
   "cell_type": "code",
   "execution_count": 60,
   "metadata": {},
   "outputs": [
    {
     "name": "stdout",
     "output_type": "stream",
     "text": [
      "commit fd319dbf6a1712b1b318863e43cd8644cf3efa12\n",
      "Author: Dr Joshua Lee Phillips <joshua.lee.phillips@gmail.com>\n",
      "Date:   Mon Feb 25 19:30:26 2019 -0600\n",
      "\n",
      "    Changes applied a second time\n",
      "\n",
      "commit 92d29e1be02ad5fa289201815babfb7a31699882\n",
      "Author: Joshua L. Phillips <Joshua.Phillips@mtsu.edu>\n",
      "Date:   Mon Feb 25 10:20:29 2019 -0600\n",
      "\n",
      "    Initial commit\n"
     ]
    }
   ],
   "source": [
    "git log"
   ]
  },
  {
   "cell_type": "markdown",
   "metadata": {},
   "source": [
    "OK, now we are ready to remove that last commit. Since we aren't using a soft reset, the changes will simply be **removed** from the directory. There is no way to get them back unless they were pushed/stored in some other repo (like origin/master on github). Therefore, it's important to be careful when resetting to an earlier commit in this way."
   ]
  },
  {
   "cell_type": "code",
   "execution_count": 61,
   "metadata": {},
   "outputs": [
    {
     "name": "stdout",
     "output_type": "stream",
     "text": [
      "LICENSE  README.md  something.txt\n"
     ]
    }
   ],
   "source": [
    "ls"
   ]
  },
  {
   "cell_type": "code",
   "execution_count": 62,
   "metadata": {},
   "outputs": [
    {
     "name": "stdout",
     "output_type": "stream",
     "text": [
      "HEAD is now at 92d29e1 Initial commit\n"
     ]
    }
   ],
   "source": [
    "git reset --hard HEAD~1"
   ]
  },
  {
   "cell_type": "code",
   "execution_count": 63,
   "metadata": {},
   "outputs": [
    {
     "name": "stdout",
     "output_type": "stream",
     "text": [
      "On branch master\n",
      "Your branch is up-to-date with 'origin/master'.\n",
      "nothing to commit, working tree clean\n"
     ]
    }
   ],
   "source": [
    "git status"
   ]
  },
  {
   "cell_type": "code",
   "execution_count": 64,
   "metadata": {},
   "outputs": [
    {
     "name": "stdout",
     "output_type": "stream",
     "text": [
      "LICENSE  README.md\n"
     ]
    }
   ],
   "source": [
    "ls"
   ]
  },
  {
   "cell_type": "markdown",
   "metadata": {},
   "source": [
    "Note that you need to **be careful** when using a hard reset since you lose the changes made since that commit, and they are now *permanently* gone.\n",
    "\n",
    "Luckily, I had the last changes stashed, so I can still get them back. However, the only reason I can is because I performed a soft reset (the default) beforehand and was able to stash those changes. Stashed changes are not a commit of any kind, and are particular to your local clone of the repository. You will have to apply such changes and add/commit them to have any permanent impact. Let's put those changes back now."
   ]
  },
  {
   "cell_type": "code",
   "execution_count": 65,
   "metadata": {},
   "outputs": [
    {
     "name": "stdout",
     "output_type": "stream",
     "text": [
      "On branch master\n",
      "Your branch is up-to-date with 'origin/master'.\n",
      "Changes to be committed:\n",
      "  (use \"git reset HEAD <file>...\" to unstage)\n",
      "\n",
      "\tnew file:   something.txt\n",
      "\n",
      "Changes not staged for commit:\n",
      "  (use \"git add <file>...\" to update what will be committed)\n",
      "  (use \"git checkout -- <file>...\" to discard changes in working directory)\n",
      "\n",
      "\tmodified:   README.md\n",
      "\n"
     ]
    }
   ],
   "source": [
    "git stash apply"
   ]
  },
  {
   "cell_type": "code",
   "execution_count": 66,
   "metadata": {},
   "outputs": [
    {
     "name": "stdout",
     "output_type": "stream",
     "text": [
      "[master 537895a] Third time is the charm\n",
      " 2 files changed, 2 insertions(+)\n",
      " create mode 100644 something.txt\n"
     ]
    }
   ],
   "source": [
    "git add README.md\n",
    "git commit -m \"Third time is the charm\""
   ]
  },
  {
   "cell_type": "markdown",
   "metadata": {},
   "source": [
    "We have now made a commit that we would like to store on the remote server on github so that others can access those changes.\n",
    "\n",
    "## Core Concept: Push\n",
    "\n",
    "Let's check the status one last time before we send it to the cloud..."
   ]
  },
  {
   "cell_type": "code",
   "execution_count": 67,
   "metadata": {},
   "outputs": [
    {
     "name": "stdout",
     "output_type": "stream",
     "text": [
      "On branch master\n",
      "Your branch is ahead of 'origin/master' by 1 commit.\n",
      "  (use \"git push\" to publish your local commits)\n",
      "nothing to commit, working tree clean\n"
     ]
    }
   ],
   "source": [
    "git status"
   ]
  },
  {
   "cell_type": "markdown",
   "metadata": {},
   "source": [
    "Our repository thinks it is one commit ahead of the `origin/master` repo, but I want to emphasize that it only **thinks** that this is the case. It really only reports this because we are one commit ahead from `origin/master` from *when we cloned it*. If others had made some commits and added them to `origin/master` **since** our last contact with the repo, then this may not be true. However, we will deal with that situation a little later. For now, I'm the only person working on the repo, so this can't have happened. Let's send that commit to github!"
   ]
  },
  {
   "cell_type": "code",
   "execution_count": 6,
   "metadata": {},
   "outputs": [
    {
     "name": "stdout",
     "output_type": "stream",
     "text": [
      "Counting objects: 4, done.\n",
      "Delta compression using up to 64 threads.\n",
      "Compressing objects: 100% (3/3), done.\n",
      "Writing objects: 100% (4/4), 461 bytes | 0 bytes/s, done.\n",
      "Total 4 (delta 0), reused 0 (delta 0)\n",
      "To github.com:CSCI4850/git-sandbox.git\n",
      "   92d29e1..537895a  master -> master\n"
     ]
    }
   ],
   "source": [
    "git push"
   ]
  },
  {
   "cell_type": "markdown",
   "metadata": {},
   "source": [
    "This commit has now been moved to the github server, and will be available for others when they clone the repo from there or update their local repo using a push.\n",
    "\n",
    "## Core Concept: Pull\n",
    "\n",
    "Now that we can push something to the github repo, we need to see how to perform a pull where we get more recent changes to the repo from github. While we could make another clone of the repository, this would be a waste of space and we could instead easily pull down the recent commits and update our local repo.\n",
    "\n",
    "However, you will note that I am the only one working on this repo. Therefore, I am going to create a new clone of the repo in a different location in order to **simulate** another user. This is actually not all that uncommon since you might want to say work on the code on your own computer as well as the biosim machines. You can easily do this, but you will have a different local clone of the repo on each system and you would need to use the push/pull process to keep them in sync with one another.\n",
    "\n",
    "Let's create another clone of the repo in a **different** subdirectory..."
   ]
  },
  {
   "cell_type": "code",
   "execution_count": 7,
   "metadata": {},
   "outputs": [
    {
     "name": "stdout",
     "output_type": "stream",
     "text": [
      "Cloning into 'git-sandbox'...\n",
      "remote: Enumerating objects: 8, done.        \n",
      "remote: Counting objects: 100% (8/8), done.        \n",
      "remote: Compressing objects: 100% (6/6), done.        \n",
      "remote: Total 8 (delta 0), reused 4 (delta 0), pack-reused 0        \n",
      "Receiving objects: 100% (8/8), done.\n"
     ]
    }
   ],
   "source": [
    "mkdir ../other-user\n",
    "cd ../other-user\n",
    "git clone git@github.com:CSCI4850/git-sandbox.git"
   ]
  },
  {
   "cell_type": "markdown",
   "metadata": {},
   "source": [
    "As this other user, I am going to create a commit and push it to the repo on github..."
   ]
  },
  {
   "cell_type": "code",
   "execution_count": 8,
   "metadata": {},
   "outputs": [
    {
     "name": "stdout",
     "output_type": "stream",
     "text": [
      "commit 537895a9f4a2728f19eb5ab67a6447c7760d4588\n",
      "Author: Dr Joshua Lee Phillips <joshua.lee.phillips@gmail.com>\n",
      "Date:   Mon Feb 25 19:37:29 2019 -0600\n",
      "\n",
      "    Third time is the charm\n",
      "\n",
      "commit 92d29e1be02ad5fa289201815babfb7a31699882\n",
      "Author: Joshua L. Phillips <Joshua.Phillips@mtsu.edu>\n",
      "Date:   Mon Feb 25 10:20:29 2019 -0600\n",
      "\n",
      "    Initial commit\n"
     ]
    }
   ],
   "source": [
    "cd git-sandbox\n",
    "git log"
   ]
  },
  {
   "cell_type": "code",
   "execution_count": 9,
   "metadata": {},
   "outputs": [
    {
     "name": "stdout",
     "output_type": "stream",
     "text": [
      "[master 3ed1b9a] Other user updates the repo\n",
      " 1 file changed, 1 insertion(+)\n",
      "commit 3ed1b9aeaa378827a52ef3d5d3bc83aea43af8e5\n",
      "Author: Dr Joshua Lee Phillips <joshua.lee.phillips@gmail.com>\n",
      "Date:   Mon Feb 25 20:23:45 2019 -0600\n",
      "\n",
      "    Other user updates the repo\n",
      "\n",
      "commit 537895a9f4a2728f19eb5ab67a6447c7760d4588\n",
      "Author: Dr Joshua Lee Phillips <joshua.lee.phillips@gmail.com>\n",
      "Date:   Mon Feb 25 19:37:29 2019 -0600\n",
      "\n",
      "    Third time is the charm\n",
      "\n",
      "commit 92d29e1be02ad5fa289201815babfb7a31699882\n",
      "Author: Joshua L. Phillips <Joshua.Phillips@mtsu.edu>\n",
      "Date:   Mon Feb 25 10:20:29 2019 -0600\n",
      "\n",
      "    Initial commit\n"
     ]
    }
   ],
   "source": [
    "echo \"A little change from another coder\" >> README.md\n",
    "git add README.md\n",
    "git commit -m \"Other user updates the repo\"\n",
    "git log"
   ]
  },
  {
   "cell_type": "code",
   "execution_count": 10,
   "metadata": {},
   "outputs": [
    {
     "name": "stdout",
     "output_type": "stream",
     "text": [
      "Counting objects: 3, done.\n",
      "Delta compression using up to 64 threads.\n",
      "Compressing objects: 100% (3/3), done.\n",
      "Writing objects: 100% (3/3), 401 bytes | 0 bytes/s, done.\n",
      "Total 3 (delta 1), reused 0 (delta 0)\n",
      "remote: Resolving deltas: 100% (1/1), completed with 1 local object.        \n",
      "To github.com:CSCI4850/git-sandbox.git\n",
      "   537895a..3ed1b9a  master -> master\n"
     ]
    }
   ],
   "source": [
    "git push"
   ]
  },
  {
   "cell_type": "markdown",
   "metadata": {},
   "source": [
    "OK, now I will switch back to my **first** clone and see what things look like over there..."
   ]
  },
  {
   "cell_type": "code",
   "execution_count": 11,
   "metadata": {},
   "outputs": [
    {
     "name": "stdout",
     "output_type": "stream",
     "text": [
      "On branch master\n",
      "Your branch is up-to-date with 'origin/master'.\n",
      "nothing to commit, working tree clean\n"
     ]
    }
   ],
   "source": [
    "# Switch to -first- clone\n",
    "cd ../../git-sandbox\n",
    "git status"
   ]
  },
  {
   "cell_type": "code",
   "execution_count": 12,
   "metadata": {},
   "outputs": [
    {
     "name": "stdout",
     "output_type": "stream",
     "text": [
      "commit 537895a9f4a2728f19eb5ab67a6447c7760d4588\n",
      "Author: Dr Joshua Lee Phillips <joshua.lee.phillips@gmail.com>\n",
      "Date:   Mon Feb 25 19:37:29 2019 -0600\n",
      "\n",
      "    Third time is the charm\n",
      "\n",
      "commit 92d29e1be02ad5fa289201815babfb7a31699882\n",
      "Author: Joshua L. Phillips <Joshua.Phillips@mtsu.edu>\n",
      "Date:   Mon Feb 25 10:20:29 2019 -0600\n",
      "\n",
      "    Initial commit\n"
     ]
    }
   ],
   "source": [
    "git log"
   ]
  },
  {
   "cell_type": "markdown",
   "metadata": {},
   "source": [
    "Now that we have switched back, we can see that the first clone is unaware of the changes made by the other user. This isn't surprising since we were simulating this exact situation above. However, we can now use the `pull` command to grab those changes from `origin/master` and update our local `master` branch..."
   ]
  },
  {
   "cell_type": "code",
   "execution_count": 13,
   "metadata": {},
   "outputs": [
    {
     "name": "stdout",
     "output_type": "stream",
     "text": [
      "remote: Enumerating objects: 5, done.        \n",
      "remote: Counting objects: 100% (5/5), done.        \n",
      "remote: Compressing objects: 100% (2/2), done.        \n",
      "remote: Total 3 (delta 1), reused 3 (delta 1), pack-reused 0        \n",
      "Unpacking objects: 100% (3/3), done.\n",
      "From github.com:CSCI4850/git-sandbox\n",
      "   537895a..3ed1b9a  master     -> origin/master\n",
      "Updating 537895a..3ed1b9a\n",
      "Fast-forward\n",
      " README.md | 1 +\n",
      " 1 file changed, 1 insertion(+)\n"
     ]
    }
   ],
   "source": [
    "git pull"
   ]
  },
  {
   "cell_type": "code",
   "execution_count": 14,
   "metadata": {},
   "outputs": [
    {
     "name": "stdout",
     "output_type": "stream",
     "text": [
      "commit 3ed1b9aeaa378827a52ef3d5d3bc83aea43af8e5\n",
      "Author: Dr Joshua Lee Phillips <joshua.lee.phillips@gmail.com>\n",
      "Date:   Mon Feb 25 20:23:45 2019 -0600\n",
      "\n",
      "    Other user updates the repo\n",
      "\n",
      "commit 537895a9f4a2728f19eb5ab67a6447c7760d4588\n",
      "Author: Dr Joshua Lee Phillips <joshua.lee.phillips@gmail.com>\n",
      "Date:   Mon Feb 25 19:37:29 2019 -0600\n",
      "\n",
      "    Third time is the charm\n",
      "\n",
      "commit 92d29e1be02ad5fa289201815babfb7a31699882\n",
      "Author: Joshua L. Phillips <Joshua.Phillips@mtsu.edu>\n",
      "Date:   Mon Feb 25 10:20:29 2019 -0600\n",
      "\n",
      "    Initial commit\n"
     ]
    }
   ],
   "source": [
    "git log"
   ]
  },
  {
   "cell_type": "markdown",
   "metadata": {},
   "source": [
    "It's important to realize that this is the typical way that a pull will work if a repo doesn't get updated very often, but it can get more complicated if we had new commits that we created before the pull. Let's simulate one more update, and then jump back again..."
   ]
  },
  {
   "cell_type": "code",
   "execution_count": 15,
   "metadata": {},
   "outputs": [],
   "source": [
    "cd ../other-user/git-sandbox"
   ]
  },
  {
   "cell_type": "code",
   "execution_count": 16,
   "metadata": {},
   "outputs": [
    {
     "name": "stdout",
     "output_type": "stream",
     "text": [
      "[master c7576f2] Another update from the -other- user\n",
      " 1 file changed, 1 insertion(+)\n",
      "Counting objects: 3, done.\n",
      "Delta compression using up to 64 threads.\n",
      "Compressing objects: 100% (3/3), done.\n",
      "Writing objects: 100% (3/3), 397 bytes | 0 bytes/s, done.\n",
      "Total 3 (delta 1), reused 0 (delta 0)\n",
      "remote: Resolving deltas: 100% (1/1), completed with 1 local object.        \n",
      "To github.com:CSCI4850/git-sandbox.git\n",
      "   3ed1b9a..c7576f2  master -> master\n"
     ]
    }
   ],
   "source": [
    "echo \"And another from the other coder\" >> README.md\n",
    "git add README.md\n",
    "git commit -m \"Another update from the -other- user\"\n",
    "git push"
   ]
  },
  {
   "cell_type": "code",
   "execution_count": 17,
   "metadata": {},
   "outputs": [
    {
     "name": "stdout",
     "output_type": "stream",
     "text": [
      "On branch master\n",
      "Your branch is up-to-date with 'origin/master'.\n",
      "nothing to commit, working tree clean\n"
     ]
    }
   ],
   "source": [
    "# Change back to -first- clone!!\n",
    "cd ../../git-sandbox\n",
    "git status"
   ]
  },
  {
   "cell_type": "markdown",
   "metadata": {},
   "source": [
    "Now that we are back, let's try to make a new commit of our own before we pull the changes from the other user. This is a typical scenario since another user might make some commits and push while we are still working on some commits of our own. Let's make a new commit now..."
   ]
  },
  {
   "cell_type": "code",
   "execution_count": 18,
   "metadata": {},
   "outputs": [
    {
     "name": "stdout",
     "output_type": "stream",
     "text": [
      "[master 05f1488] A new change for my original clone\n",
      " 1 file changed, 1 insertion(+)\n",
      "commit 05f1488e1e98299040d5bc1706485b47539a99a8\n",
      "Author: Dr Joshua Lee Phillips <joshua.lee.phillips@gmail.com>\n",
      "Date:   Mon Feb 25 20:35:09 2019 -0600\n",
      "\n",
      "    A new change for my original clone\n",
      "\n",
      "commit 3ed1b9aeaa378827a52ef3d5d3bc83aea43af8e5\n",
      "Author: Dr Joshua Lee Phillips <joshua.lee.phillips@gmail.com>\n",
      "Date:   Mon Feb 25 20:23:45 2019 -0600\n",
      "\n",
      "    Other user updates the repo\n",
      "\n",
      "commit 537895a9f4a2728f19eb5ab67a6447c7760d4588\n",
      "Author: Dr Joshua Lee Phillips <joshua.lee.phillips@gmail.com>\n",
      "Date:   Mon Feb 25 19:37:29 2019 -0600\n",
      "\n",
      "    Third time is the charm\n",
      "\n",
      "commit 92d29e1be02ad5fa289201815babfb7a31699882\n",
      "Author: Joshua L. Phillips <Joshua.Phillips@mtsu.edu>\n",
      "Date:   Mon Feb 25 10:20:29 2019 -0600\n",
      "\n",
      "    Initial commit\n"
     ]
    }
   ],
   "source": [
    "echo \"Original user updates the README\" >> README.md\n",
    "git add README.md\n",
    "git commit -m \"A new change for my original clone\"\n",
    "git log"
   ]
  },
  {
   "cell_type": "markdown",
   "metadata": {},
   "source": [
    "Notice that the new commit from the other user is not present. Instead, we have added a commit of our own on top of the same commit. We won't become aware of this problem until we try to perform a pull. Git will let us know what's going on when this happens...\n",
    "\n",
    "## Core Concept: Merging"
   ]
  },
  {
   "cell_type": "code",
   "execution_count": 19,
   "metadata": {},
   "outputs": [
    {
     "name": "stdout",
     "output_type": "stream",
     "text": [
      "remote: Enumerating objects: 5, done.        \n",
      "remote: Counting objects: 100% (5/5), done.        \n",
      "remote: Compressing objects: 100% (2/2), done.        \n",
      "remote: Total 3 (delta 1), reused 3 (delta 1), pack-reused 0        \n",
      "Unpacking objects: 100% (3/3), done.\n",
      "From github.com:CSCI4850/git-sandbox\n",
      "   3ed1b9a..c7576f2  master     -> origin/master\n",
      "Auto-merging README.md\n",
      "CONFLICT (content): Merge conflict in README.md\n",
      "Automatic merge failed; fix conflicts and then commit the result.\n"
     ]
    },
    {
     "ename": "",
     "evalue": "1",
     "execution_count": 19,
     "output_type": "error",
     "traceback": []
    }
   ],
   "source": [
    "git pull"
   ]
  },
  {
   "cell_type": "markdown",
   "metadata": {},
   "source": [
    "**IF** we had only altered files which were *not* altered by the latest commits (no overlaps) then the pull would have just **automatically** merged those changes with our local clone and update the log appropriately as well. However, since we have made a change to the README that *conflicts* with the change made by the other user, we are now forced to **fix** the conflict manually and then package it up as a new commit."
   ]
  },
  {
   "cell_type": "code",
   "execution_count": 20,
   "metadata": {},
   "outputs": [
    {
     "name": "stdout",
     "output_type": "stream",
     "text": [
      "# git-sandbox\n",
      "Used to create the git-tutorial\n",
      "Something new added to the README file\n",
      "A little change from another coder\n",
      "<<<<<<< HEAD\n",
      "Original user updates the README\n",
      "=======\n",
      "And another from the other coder\n",
      ">>>>>>> c7576f2c262551c45aa020578dbf9ce65e1b9881\n"
     ]
    }
   ],
   "source": [
    "cat README.md"
   ]
  },
  {
   "cell_type": "markdown",
   "metadata": {},
   "source": [
    "You can see that git adds some special information to the conflicting file by showing **both** sets of changes in the same file. We can either choose the version we want, or make an updated version with both changes. This will require coding expertise in most cases..."
   ]
  },
  {
   "cell_type": "code",
   "execution_count": 21,
   "metadata": {},
   "outputs": [
    {
     "name": "stdout",
     "output_type": "stream",
     "text": [
      "On branch master\n",
      "Your branch and 'origin/master' have diverged,\n",
      "and have 1 and 1 different commits each, respectively.\n",
      "  (use \"git pull\" to merge the remote branch into yours)\n",
      "You have unmerged paths.\n",
      "  (fix conflicts and run \"git commit\")\n",
      "  (use \"git merge --abort\" to abort the merge)\n",
      "\n",
      "Unmerged paths:\n",
      "  (use \"git add <file>...\" to mark resolution)\n",
      "\n",
      "\tboth modified:   README.md\n",
      "\n",
      "no changes added to commit (use \"git add\" and/or \"git commit -a\")\n"
     ]
    }
   ],
   "source": [
    "git status"
   ]
  },
  {
   "cell_type": "markdown",
   "metadata": {},
   "source": [
    "Notice that status can really help resolve potential issues that arise. If we are not ready to work on merging the conflicting versions of the code, then we can put it off until later by aborting the merge. Let's try that now..."
   ]
  },
  {
   "cell_type": "code",
   "execution_count": 22,
   "metadata": {},
   "outputs": [],
   "source": [
    "git merge --abort"
   ]
  },
  {
   "cell_type": "code",
   "execution_count": 23,
   "metadata": {},
   "outputs": [
    {
     "name": "stdout",
     "output_type": "stream",
     "text": [
      "On branch master\n",
      "Your branch and 'origin/master' have diverged,\n",
      "and have 1 and 1 different commits each, respectively.\n",
      "  (use \"git pull\" to merge the remote branch into yours)\n",
      "nothing to commit, working tree clean\n",
      "commit 05f1488e1e98299040d5bc1706485b47539a99a8\n",
      "Author: Dr Joshua Lee Phillips <joshua.lee.phillips@gmail.com>\n",
      "Date:   Mon Feb 25 20:35:09 2019 -0600\n",
      "\n",
      "    A new change for my original clone\n",
      "\n",
      "commit 3ed1b9aeaa378827a52ef3d5d3bc83aea43af8e5\n",
      "Author: Dr Joshua Lee Phillips <joshua.lee.phillips@gmail.com>\n",
      "Date:   Mon Feb 25 20:23:45 2019 -0600\n",
      "\n",
      "    Other user updates the repo\n",
      "\n",
      "commit 537895a9f4a2728f19eb5ab67a6447c7760d4588\n",
      "Author: Dr Joshua Lee Phillips <joshua.lee.phillips@gmail.com>\n",
      "Date:   Mon Feb 25 19:37:29 2019 -0600\n",
      "\n",
      "    Third time is the charm\n",
      "\n",
      "commit 92d29e1be02ad5fa289201815babfb7a31699882\n",
      "Author: Joshua L. Phillips <Joshua.Phillips@mtsu.edu>\n",
      "Date:   Mon Feb 25 10:20:29 2019 -0600\n",
      "\n",
      "    Initial commit\n"
     ]
    }
   ],
   "source": [
    "git status\n",
    "git log"
   ]
  },
  {
   "cell_type": "markdown",
   "metadata": {},
   "source": [
    "While this **doesn't actually fix** the problem, we can at least see that there might be something to do once we try to pull since our commits differ from those in `origin/master`. We could continue working in our local clone and adding as many commits as we want in this state, and perform the merge later on. However, let's just go ahead and bite the bullet here and fix the merge... "
   ]
  },
  {
   "cell_type": "code",
   "execution_count": 24,
   "metadata": {},
   "outputs": [
    {
     "name": "stdout",
     "output_type": "stream",
     "text": [
      "Auto-merging README.md\n",
      "CONFLICT (content): Merge conflict in README.md\n",
      "Automatic merge failed; fix conflicts and then commit the result.\n"
     ]
    },
    {
     "ename": "",
     "evalue": "1",
     "execution_count": 24,
     "output_type": "error",
     "traceback": []
    }
   ],
   "source": [
    "git pull"
   ]
  },
  {
   "cell_type": "code",
   "execution_count": 25,
   "metadata": {},
   "outputs": [
    {
     "name": "stdout",
     "output_type": "stream",
     "text": [
      "# git-sandbox\n",
      "Used to create the git-tutorial\n",
      "Something new added to the README file\n",
      "A little change from another coder\n",
      "<<<<<<< HEAD\n",
      "Original user updates the README\n",
      "=======\n",
      "And another from the other coder\n",
      ">>>>>>> c7576f2c262551c45aa020578dbf9ce65e1b9881\n"
     ]
    }
   ],
   "source": [
    "cat README.md"
   ]
  },
  {
   "cell_type": "markdown",
   "metadata": {},
   "source": [
    "Now, I will open up this file in a text editor and fix the issues. At this point, I think I would like to keep **both** updates to the README, so I can just remove the commit separators from the file. I'll edit the file and then print it out again so we can see the updated version..."
   ]
  },
  {
   "cell_type": "code",
   "execution_count": 26,
   "metadata": {},
   "outputs": [
    {
     "name": "stdout",
     "output_type": "stream",
     "text": [
      "# git-sandbox\n",
      "Used to create the git-tutorial\n",
      "Something new added to the README file\n",
      "A little change from another coder\n",
      "Original user updates the README\n",
      "And another from the other coder\n"
     ]
    }
   ],
   "source": [
    "cat README.md"
   ]
  },
  {
   "cell_type": "code",
   "execution_count": 27,
   "metadata": {},
   "outputs": [
    {
     "name": "stdout",
     "output_type": "stream",
     "text": [
      "On branch master\n",
      "Your branch and 'origin/master' have diverged,\n",
      "and have 1 and 1 different commits each, respectively.\n",
      "  (use \"git pull\" to merge the remote branch into yours)\n",
      "You have unmerged paths.\n",
      "  (fix conflicts and run \"git commit\")\n",
      "  (use \"git merge --abort\" to abort the merge)\n",
      "\n",
      "Unmerged paths:\n",
      "  (use \"git add <file>...\" to mark resolution)\n",
      "\n",
      "\tboth modified:   README.md\n",
      "\n",
      "no changes added to commit (use \"git add\" and/or \"git commit -a\")\n"
     ]
    }
   ],
   "source": [
    "git status"
   ]
  },
  {
   "cell_type": "markdown",
   "metadata": {},
   "source": [
    "Now that we have fixed the code, we can package up this **merge** into a commit to show when the merge occurred in the log."
   ]
  },
  {
   "cell_type": "code",
   "execution_count": 28,
   "metadata": {},
   "outputs": [
    {
     "name": "stdout",
     "output_type": "stream",
     "text": [
      "On branch master\n",
      "Your branch and 'origin/master' have diverged,\n",
      "and have 1 and 1 different commits each, respectively.\n",
      "  (use \"git pull\" to merge the remote branch into yours)\n",
      "All conflicts fixed but you are still merging.\n",
      "  (use \"git commit\" to conclude merge)\n",
      "\n",
      "Changes to be committed:\n",
      "\n",
      "\tmodified:   README.md\n",
      "\n"
     ]
    }
   ],
   "source": [
    "git add README.md\n",
    "git status"
   ]
  },
  {
   "cell_type": "code",
   "execution_count": 29,
   "metadata": {},
   "outputs": [
    {
     "name": "stdout",
     "output_type": "stream",
     "text": [
      "[master 26a8ff4] Merging README.md from two different users\n"
     ]
    }
   ],
   "source": [
    "git commit -m \"Merging README.md from two different users\""
   ]
  },
  {
   "cell_type": "code",
   "execution_count": 30,
   "metadata": {},
   "outputs": [
    {
     "name": "stdout",
     "output_type": "stream",
     "text": [
      "On branch master\n",
      "Your branch is ahead of 'origin/master' by 2 commits.\n",
      "  (use \"git push\" to publish your local commits)\n",
      "nothing to commit, working tree clean\n"
     ]
    }
   ],
   "source": [
    "git status"
   ]
  },
  {
   "cell_type": "markdown",
   "metadata": {},
   "source": [
    "Note how the merge has worked: there are 2 new commits."
   ]
  },
  {
   "cell_type": "code",
   "execution_count": 31,
   "metadata": {},
   "outputs": [
    {
     "name": "stdout",
     "output_type": "stream",
     "text": [
      "commit 26a8ff49de531d27acdf75da3e29a7680e15ffbf\n",
      "Merge: 05f1488 c7576f2\n",
      "Author: Dr Joshua Lee Phillips <joshua.lee.phillips@gmail.com>\n",
      "Date:   Mon Feb 25 20:55:09 2019 -0600\n",
      "\n",
      "    Merging README.md from two different users\n",
      "\n",
      "commit 05f1488e1e98299040d5bc1706485b47539a99a8\n",
      "Author: Dr Joshua Lee Phillips <joshua.lee.phillips@gmail.com>\n",
      "Date:   Mon Feb 25 20:35:09 2019 -0600\n",
      "\n",
      "    A new change for my original clone\n",
      "\n",
      "commit c7576f2c262551c45aa020578dbf9ce65e1b9881\n",
      "Author: Dr Joshua Lee Phillips <joshua.lee.phillips@gmail.com>\n",
      "Date:   Mon Feb 25 20:32:50 2019 -0600\n",
      "\n",
      "    Another update from the -other- user\n",
      "\n",
      "commit 3ed1b9aeaa378827a52ef3d5d3bc83aea43af8e5\n",
      "Author: Dr Joshua Lee Phillips <joshua.lee.phillips@gmail.com>\n",
      "Date:   Mon Feb 25 20:23:45 2019 -0600\n",
      "\n",
      "    Other user updates the repo\n",
      "\n",
      "commit 537895a9f4a2728f19eb5ab67a6447c7760d4588\n",
      "Author: Dr Joshua Lee Phillips <joshua.lee.phillips@gmail.com>\n",
      "Date:   Mon Feb 25 19:37:29 2019 -0600\n",
      "\n",
      "    Third time is the charm\n",
      "\n",
      "commit 92d29e1be02ad5fa289201815babfb7a31699882\n",
      "Author: Joshua L. Phillips <Joshua.Phillips@mtsu.edu>\n",
      "Date:   Mon Feb 25 10:20:29 2019 -0600\n",
      "\n",
      "    Initial commit\n"
     ]
    }
   ],
   "source": [
    "git log"
   ]
  },
  {
   "cell_type": "markdown",
   "metadata": {},
   "source": [
    "Let's publish that change to the repo with a push..."
   ]
  },
  {
   "cell_type": "code",
   "execution_count": 32,
   "metadata": {},
   "outputs": [
    {
     "name": "stdout",
     "output_type": "stream",
     "text": [
      "Counting objects: 6, done.\n",
      "Delta compression using up to 64 threads.\n",
      "Compressing objects: 100% (6/6), done.\n",
      "Writing objects: 100% (6/6), 766 bytes | 0 bytes/s, done.\n",
      "Total 6 (delta 2), reused 0 (delta 0)\n",
      "remote: Resolving deltas: 100% (2/2), completed with 1 local object.        \n",
      "To github.com:CSCI4850/git-sandbox.git\n",
      "   c7576f2..26a8ff4  master -> master\n"
     ]
    }
   ],
   "source": [
    "git push"
   ]
  },
  {
   "cell_type": "markdown",
   "metadata": {},
   "source": [
    "This was a fairly common issue that can happen: we pull and need to complete a merge. After the merge, we can push the changes to the repo.\n",
    "\n",
    "However, there is another issue that can arise: what if we had just made our commit and tried to push it **before** we pulled?\n",
    "\n",
    "Let's see..."
   ]
  },
  {
   "cell_type": "code",
   "execution_count": 33,
   "metadata": {},
   "outputs": [],
   "source": [
    "# Add a commit from the other user\n",
    "cd ../other-user/git-sandbox"
   ]
  },
  {
   "cell_type": "code",
   "execution_count": 35,
   "metadata": {},
   "outputs": [
    {
     "name": "stdout",
     "output_type": "stream",
     "text": [
      "[master 5e8f8d7] Changing in order to push -before- pulling\n",
      " 1 file changed, 1 insertion(+)\n"
     ]
    }
   ],
   "source": [
    "echo \"Yet another change from the other user\" >> README.md\n",
    "git add README.md\n",
    "git commit -m \"Changing in order to push -before- pulling\""
   ]
  },
  {
   "cell_type": "code",
   "execution_count": 36,
   "metadata": {},
   "outputs": [
    {
     "name": "stdout",
     "output_type": "stream",
     "text": [
      "To github.com:CSCI4850/git-sandbox.git\n",
      " ! [rejected]        master -> master (fetch first)\n",
      "error: failed to push some refs to 'git@github.com:CSCI4850/git-sandbox.git'\n",
      "hint: Updates were rejected because the remote contains work that you do\n",
      "hint: not have locally. This is usually caused by another repository pushing\n",
      "hint: to the same ref. You may want to first integrate the remote changes\n",
      "hint: (e.g., 'git pull ...') before pushing again.\n",
      "hint: See the 'Note about fast-forwards' in 'git push --help' for details.\n"
     ]
    },
    {
     "ename": "",
     "evalue": "1",
     "execution_count": 36,
     "output_type": "error",
     "traceback": []
    }
   ],
   "source": [
    "# Push the commit!\n",
    "git push"
   ]
  },
  {
   "cell_type": "markdown",
   "metadata": {},
   "source": [
    "So, the other user tried to make a commit and then push it immediately. This will be **rejected** since we made the earlier merge (and pushed the correspnding commit) since this user tried to do this. There is no way for git to automatically merge the conflicting files, so it requires you to perform a pull **first** and manage the merge before this user can complete the push. Notice that we could easily have ended up in the same situation above in our first clone of the repo if we had attempted to push there before the pull.\n",
    "\n",
    "## Core Concept: Branching\n",
    "\n",
    "These merges can get to be quite a pain if they need to be performed often, yet it's important to commit/push often to ensure that the code is backed-up and available to others on the team ASAP. So, how do we publish changes often without slowing down development? How do we delay the merge until we are really ready to tackle it? To solve this, we need branching.\n",
    "\n",
    "So far, we have building on top of the `master` branch which it typically (99% of the time) the **primary** branch of the repository. A typical model for working on a project where we want the master branch to stay pretty stable and only rarely updated is instead to have separate branch for code development (we will just call ours **development**). This other branch will be created from the master branch by choosing a commit from which to start (we can just let it be the current commit in our repository).\n",
    "\n",
    "You can do this at any time, but it might be a good time to *make our new branch right now*, since we currently have a conflict but we would still prefer to push our version to the repository so that others might benefit or use it. So, making a new branch would allow us to do this..."
   ]
  },
  {
   "cell_type": "code",
   "execution_count": 39,
   "metadata": {},
   "outputs": [
    {
     "name": "stdout",
     "output_type": "stream",
     "text": [
      "* master\n"
     ]
    }
   ],
   "source": [
    "# Check your current branch\n",
    "git branch"
   ]
  },
  {
   "cell_type": "markdown",
   "metadata": {},
   "source": [
    "We can see there is currently only one branch (master) and we are using it (as indicated by the \\*).\n",
    "\n",
    "When we make a new branch, it will be based off of our current branch's HEAD commit. Remember, this will use our *local* master branch as the base, so we still don't have the updates from the first user when we make this branch. Still, it's easy enough to start branching and see how we can use it to store our updates for later..."
   ]
  },
  {
   "cell_type": "code",
   "execution_count": 40,
   "metadata": {},
   "outputs": [],
   "source": [
    "# Make a new branch 'development'\n",
    "git branch development"
   ]
  },
  {
   "cell_type": "code",
   "execution_count": 41,
   "metadata": {},
   "outputs": [
    {
     "name": "stdout",
     "output_type": "stream",
     "text": [
      "  development\n",
      "* master\n"
     ]
    }
   ],
   "source": [
    "git branch"
   ]
  },
  {
   "cell_type": "markdown",
   "metadata": {},
   "source": [
    "Notice that we have made a new branch, but it's currently not active. Let's take a look a look at the log (just the latest commit) and see what happens when we switch to the new branch..."
   ]
  },
  {
   "cell_type": "code",
   "execution_count": 42,
   "metadata": {},
   "outputs": [
    {
     "name": "stdout",
     "output_type": "stream",
     "text": [
      "commit 5e8f8d72f71dd96e318adb1ee093760a68f44fd8\n",
      "Author: Dr Joshua Lee Phillips <joshua.lee.phillips@gmail.com>\n",
      "Date:   Mon Feb 25 21:01:46 2019 -0600\n",
      "\n",
      "    Changing in order to push -before- pulling\n"
     ]
    }
   ],
   "source": [
    "git log -1"
   ]
  },
  {
   "cell_type": "markdown",
   "metadata": {},
   "source": [
    "The `-1` option to the log command will just show the last commit made (HEAD), which was the one we used for creating the branch.\n",
    "\n",
    "Let's switch branches now using the `checkout` command."
   ]
  },
  {
   "cell_type": "code",
   "execution_count": 43,
   "metadata": {},
   "outputs": [
    {
     "name": "stdout",
     "output_type": "stream",
     "text": [
      "Switched to branch 'development'\n"
     ]
    }
   ],
   "source": [
    "git checkout development"
   ]
  },
  {
   "cell_type": "code",
   "execution_count": 44,
   "metadata": {},
   "outputs": [
    {
     "name": "stdout",
     "output_type": "stream",
     "text": [
      "* development\n",
      "  master\n"
     ]
    }
   ],
   "source": [
    "git branch"
   ]
  },
  {
   "cell_type": "code",
   "execution_count": 45,
   "metadata": {},
   "outputs": [
    {
     "name": "stdout",
     "output_type": "stream",
     "text": [
      "commit 5e8f8d72f71dd96e318adb1ee093760a68f44fd8\n",
      "Author: Dr Joshua Lee Phillips <joshua.lee.phillips@gmail.com>\n",
      "Date:   Mon Feb 25 21:01:46 2019 -0600\n",
      "\n",
      "    Changing in order to push -before- pulling\n"
     ]
    }
   ],
   "source": [
    "git log -1"
   ]
  },
  {
   "cell_type": "markdown",
   "metadata": {},
   "source": [
    "Looks the same right? Well, everything except we have now moved over to used the development branch in the repository. Given that we are now on a separate branch from the master branch, we should be able to push these changes to github.\n",
    "\n",
    "**IF** this branch already existed, then this would be straightfoward, but there are some additional steps that need to be taken when a new branch is created since the remote repo has **no idea** that you want to have it track this branch. You **could** just use it to work temporarily (allowing you to use commits and revision history as you make changes) until you decide to merge it into the master branch. However, let's assume you **really** want this new branch backed-up and available on the github repo..."
   ]
  },
  {
   "cell_type": "code",
   "execution_count": 46,
   "metadata": {},
   "outputs": [
    {
     "name": "stdout",
     "output_type": "stream",
     "text": [
      "fatal: The current branch development has no upstream branch.\n",
      "To push the current branch and set the remote as upstream, use\n",
      "\n",
      "    git push --set-upstream origin development\n",
      "\n"
     ]
    },
    {
     "ename": "",
     "evalue": "128",
     "execution_count": 46,
     "output_type": "error",
     "traceback": []
    }
   ],
   "source": [
    "# Attempt remote branch creation by pushing\n",
    "git push"
   ]
  },
  {
   "cell_type": "markdown",
   "metadata": {},
   "source": [
    "Git doesn't know where to put the new branch because there is currently not one on the server. Also, you can actually have a **local** branch which tracks a **remote** branch of a **different name** if you would like. However, let's keep it straightforward here and just say that we want to use a branch named development from the github repo (origin) as our remote branch. For this, we just need to follow those helpful instructions above and set the current branch to track the remote (origin's) development branch as it's **upstream** repository. This is typically how you will want your branches to behave in most cases..."
   ]
  },
  {
   "cell_type": "code",
   "execution_count": 47,
   "metadata": {},
   "outputs": [
    {
     "name": "stdout",
     "output_type": "stream",
     "text": [
      "Counting objects: 17, done.\n",
      "Delta compression using up to 64 threads.\n",
      "Compressing objects: 100% (15/15), done.\n",
      "Writing objects: 100% (17/17), 2.69 KiB | 0 bytes/s, done.\n",
      "Total 17 (delta 3), reused 7 (delta 0)\n",
      "remote: Resolving deltas: 100% (3/3), done.        \n",
      "remote: \n",
      "remote: Create a pull request for 'development' on GitHub by visiting:        \n",
      "remote:      https://github.com/CSCI4850/git-sandbox/pull/new/development        \n",
      "remote: \n",
      "To github.com:CSCI4850/git-sandbox.git\n",
      " * [new branch]      development -> development\n",
      "Branch development set up to track remote branch development from origin.\n"
     ]
    }
   ],
   "source": [
    "git push --set-upstream origin development"
   ]
  },
  {
   "cell_type": "markdown",
   "metadata": {},
   "source": [
    "By this action, we have set up a **new** branch on the remote server (origin) by the name `development` and have then set our local branch named `development` to track that one for upstream changes. Upstream changes are the kind where someone else makes a change before you do. So, others who have write access to the same repository will also be able to have access to this branch and potentially put you in the same position as we were already in with master! This requires team coordination, where team members are aware of who is working from certain branches.\n",
    "\n",
    "In fact, you may want to go so far as to make only **one person** responsible for updating master, just to make sure that it doesn't get updated too often. You may then want to have a development branch to which everyone may push, but **communicate** before such changes are made. Then, each team member might maintain a personal branch (made based off of development) which only that team member will directly work on/from. It's possible to merge changes between such branches when needed, and this can be coordinated as needed. However, I still even make a new **local** branch based off of my personal branch before I perform any merges with it, just to ensure that nothing gets lost in a complicated merge. OK, this are mostly just suggestions/warnings for now (and are not necessarily even best practices) but there are even better ways to do this. This would be enough to get the ideas flowing, but we will see an example of a more safe way to merge changes than this model in the future.\n",
    "\n",
    "OK, so back to the plan. What about if I need to delete a branch? For example, here "
   ]
  },
  {
   "cell_type": "markdown",
   "metadata": {},
   "source": [
    "Copyright &copy; 2022 Joshua L. Phillips"
   ]
  }
 ],
 "metadata": {
  "kernelspec": {
   "display_name": "Bash",
   "language": "bash",
   "name": "bash"
  },
  "language_info": {
   "codemirror_mode": "shell",
   "file_extension": ".sh",
   "mimetype": "text/x-sh",
   "name": "bash"
  }
 },
 "nbformat": 4,
 "nbformat_minor": 4
}
